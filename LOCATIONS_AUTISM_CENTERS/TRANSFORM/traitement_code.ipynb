{
 "cells": [
  {
   "cell_type": "code",
   "execution_count": 2,
   "metadata": {},
   "outputs": [],
   "source": [
    "import pandas as pd\n",
    "import re"
   ]
  },
  {
   "cell_type": "markdown",
   "metadata": {},
   "source": [
    "# Treatment of the autism_treatment_centers_bookimed.csv:"
   ]
  },
  {
   "cell_type": "code",
   "execution_count": null,
   "metadata": {},
   "outputs": [],
   "source": [
    "# Load your data into a pandas DataFrame\n",
    "df = pd.read_csv(\"autism_treatment_centers_bookimed.csv\")\n",
    "df.info()"
   ]
  },
  {
   "cell_type": "markdown",
   "metadata": {},
   "source": [
    "- split the country attribut to city and country "
   ]
  },
  {
   "cell_type": "code",
   "execution_count": null,
   "metadata": {},
   "outputs": [],
   "source": [
    "\n",
    "# Define a function to split the country attribute\n",
    "def split_country(text):\n",
    "  # Split by comma, assuming the city is before the comma\n",
    "  parts = text.split(\",\")\n",
    "  country = parts[0].strip()\n",
    "  city = \",\".join(parts[1:]).strip()\n",
    "  return city, country\n",
    "\n",
    "# Apply the function to the \"country\" column and create new columns\n",
    "df[[\"city\", \"country\"]] = df[\"country\"].apply(split_country).apply(pd.Series)\n",
    "\n",
    "# Print the modified DataFrame\n",
    "print(df)\n"
   ]
  },
  {
   "cell_type": "code",
   "execution_count": null,
   "metadata": {},
   "outputs": [],
   "source": [
    "df.head()"
   ]
  },
  {
   "cell_type": "markdown",
   "metadata": {},
   "source": [
    "- Specific treatment to eliminate any conflict information"
   ]
  },
  {
   "cell_type": "code",
   "execution_count": null,
   "metadata": {},
   "outputs": [],
   "source": [
    "# Filter rows where country is not 'Israel'\n",
    "df = df[df['country'] != 'Israel']\n",
    "\n",
    "df.head()"
   ]
  },
  {
   "cell_type": "markdown",
   "metadata": {},
   "source": [
    " - standardizing abbreviations  and Normalize address "
   ]
  },
  {
   "cell_type": "code",
   "execution_count": null,
   "metadata": {},
   "outputs": [],
   "source": [
    "import re\n",
    "\n",
    "def normalize_address(address):\n",
    "   \n",
    "    \n",
    "    # Normalize street names and types\n",
    "    abbreviations = {\n",
    "        \"St\": \"Street\",\n",
    "        \"Ave\": \"Avenue\",\n",
    "        \"Rd\": \"Road\",\n",
    "        \"Blvd\": \"Boulevard\",\n",
    "        \"Dr\": \"Drive\",\n",
    "        \"Hosp\": \"Hospital\",\n",
    "        \"NP\": \"Neurology Psychiatry\",\n",
    "        \"No:\": \"Number :\" ,# Assuming \"NO\" stands for \"Number\"\n",
    "        \"CD\" : \"Clinic Department \" ,\n",
    "        \"D:\" : \"Door : \",\n",
    "        \"Cd\" : \"Cadde\",\n",
    "        \"LV\" : \"Latvia\"\n",
    "\n",
    "    }\n",
    "    \n",
    "    # Iterate over each abbreviation and replace it in the address\n",
    "    for abbreviation, full_word in abbreviations.items():\n",
    "        address = re.sub(r'\\b' + re.escape(abbreviation) + r'\\b', full_word, address)\n",
    "    \n",
    "\n",
    "    \n",
    "    # Return the normalized address\n",
    "    return address.strip()\n",
    "\n",
    "# Apply normalization to the \"address\" column\n",
    "df['normalized_address'] = df['address'].apply(normalize_address)\n",
    "print(df['normalized_address'])\n",
    "\n"
   ]
  },
  {
   "cell_type": "code",
   "execution_count": null,
   "metadata": {},
   "outputs": [],
   "source": [
    "df.head()"
   ]
  },
  {
   "cell_type": "markdown",
   "metadata": {},
   "source": [
    "- reorder attributes and select desired attributes"
   ]
  },
  {
   "cell_type": "code",
   "execution_count": null,
   "metadata": {},
   "outputs": [],
   "source": [
    "# Define the desired order of columns\n",
    "desired_columns = ['name', 'city' , 'country', 'normalized_address', 'latitude', 'longitude' , 'info', 'free_quote_link']\n",
    "\n",
    "# Reorganize the columns and select only the necessary columns\n",
    "df = df.reindex(columns=desired_columns)\n",
    "\n",
    "# Rename the 'normalized_address' column to 'address'\n",
    "df = df.rename(columns={'normalized_address': 'address'})\n",
    "\n",
    "# Print the updated DataFrame\n",
    "df.head()\n"
   ]
  },
  {
   "cell_type": "code",
   "execution_count": null,
   "metadata": {},
   "outputs": [],
   "source": [
    "df.drop_duplicates(inplace=True)\n",
    "df.info()"
   ]
  },
  {
   "cell_type": "code",
   "execution_count": null,
   "metadata": {},
   "outputs": [],
   "source": [
    "# Exporter le DataFrame vers un fichier CSV\n",
    "df.to_csv('autism_treatment_centers_bookimed_processed.csv', index=False)"
   ]
  },
  {
   "cell_type": "markdown",
   "metadata": {},
   "source": [
    "# Treatment of autism_treatment_centers_placidway.csv:"
   ]
  },
  {
   "cell_type": "code",
   "execution_count": null,
   "metadata": {},
   "outputs": [],
   "source": [
    "# Load your data into a pandas DataFrame\n",
    "dp = pd.read_csv(\"autism_treatment_centers_placidway.csv\")"
   ]
  },
  {
   "cell_type": "code",
   "execution_count": null,
   "metadata": {},
   "outputs": [],
   "source": [
    "dp.head()"
   ]
  },
  {
   "cell_type": "code",
   "execution_count": null,
   "metadata": {},
   "outputs": [],
   "source": [
    "dp.info()"
   ]
  },
  {
   "cell_type": "markdown",
   "metadata": {},
   "source": [
    "- Remove Duplicates:"
   ]
  },
  {
   "cell_type": "code",
   "execution_count": null,
   "metadata": {},
   "outputs": [],
   "source": [
    "dp.drop_duplicates(inplace=True)"
   ]
  },
  {
   "cell_type": "markdown",
   "metadata": {},
   "source": [
    "- Determine the city "
   ]
  },
  {
   "cell_type": "code",
   "execution_count": null,
   "metadata": {},
   "outputs": [],
   "source": [
    "# Assuming the address contains the city information separated by comma\n",
    "dp['city'] = dp['address'].apply(lambda x: x.split(',')[-2].strip())\n",
    "dp.head(17)"
   ]
  },
  {
   "cell_type": "markdown",
   "metadata": {},
   "source": [
    "- standardize the addresses"
   ]
  },
  {
   "cell_type": "code",
   "execution_count": null,
   "metadata": {},
   "outputs": [],
   "source": [
    "import re\n",
    "\n",
    "def standardize_address(address, city):\n",
    "    # Normalize street names and types\n",
    "    abbreviations = {\n",
    "        \"St.\": \"Street\",\n",
    "        \"Ave.\": \"Avenue\",\n",
    "        \"Rd.\": \"Road\",\n",
    "        \"Blvd.\": \"Boulevard\",\n",
    "        \"Dr.\": \"Drive\",\n",
    "        \"Ste.\": \"Suite\",\n",
    "        \"Fl.\": \"Floor\",\n",
    "        \"No.\": \"Number\",\n",
    "        \"Bldg.\": \"Building\",\n",
    "        \"Apt.\": \"Apartment\",\n",
    "        \"Pl.\": \"Place\",\n",
    "        \"Ct.\": \"Court\"\n",
    "    }\n",
    "    \n",
    "    # Iterate over each abbreviation and replace it in the address\n",
    "    for abbreviation, full_word in abbreviations.items():\n",
    "        address = re.sub(r'\\b' + re.escape(abbreviation) + r'\\b', full_word, address)\n",
    "    \n",
    "    \n",
    "    return address.strip()\n",
    "\n",
    "# Apply address standardization to the \"address\" column\n",
    "dp['standardized_address'] = dp.apply(lambda x: standardize_address(x['address'], x['city']), axis=1)\n",
    "\n",
    "# Display the standardized addresses\n",
    "print(dp['standardized_address'])"
   ]
  },
  {
   "cell_type": "markdown",
   "metadata": {},
   "source": [
    "- reorder attributes and select desired attributes"
   ]
  },
  {
   "cell_type": "code",
   "execution_count": null,
   "metadata": {},
   "outputs": [],
   "source": [
    "# Define the desired order of columns\n",
    "desired_columns = ['second_name', 'city' , 'country', 'standardized_address', 'latitude', 'longitude']\n",
    "\n",
    "# Reorganize the columns and select only the necessary columns\n",
    "dp = dp.reindex(columns=desired_columns)\n",
    "\n",
    "# Rename the 'normalized_address' column to 'address'\n",
    "dp = dp.rename(columns={'standardized_address': 'address'})\n",
    "dp = dp.rename(columns={'second_name': 'name'})\n",
    "\n",
    "# Print the updated DataFrame\n",
    "dp.head()\n"
   ]
  },
  {
   "cell_type": "code",
   "execution_count": null,
   "metadata": {},
   "outputs": [],
   "source": [
    "# Exporter le DataFrame vers un fichier CSV\n",
    "dp.to_csv('autism_treatment_centers_placidway_processed.csv', index=False)"
   ]
  },
  {
   "cell_type": "markdown",
   "metadata": {},
   "source": [
    "# Treatment of the autism_traitement_centers_Algeria.csv : "
   ]
  },
  {
   "cell_type": "code",
   "execution_count": null,
   "metadata": {},
   "outputs": [],
   "source": [
    "dA = pd.read_csv(\"autism_traitement_centers_Algeria.csv\")\n",
    "dA.head()"
   ]
  },
  {
   "cell_type": "code",
   "execution_count": null,
   "metadata": {},
   "outputs": [],
   "source": [
    "\n",
    "# Define the desired order of columns\n",
    "desired_columns = ['name', 'city', 'country', 'address', 'latitude', 'longitude', 'info']\n",
    "\n",
    "\n",
    "# Reorganize the columns and select only the necessary columns\n",
    "dA = dA.reindex(columns=desired_columns)\n",
    "\n",
    "# Print the updated DataFrame\n",
    "dA.head()"
   ]
  },
  {
   "cell_type": "code",
   "execution_count": null,
   "metadata": {},
   "outputs": [],
   "source": [
    "# Exporter le DataFrame vers un fichier CSV\n",
    "dA.to_csv('autism_traitement_centers_Algeria_processed.csv', index=False)"
   ]
  },
  {
   "cell_type": "markdown",
   "metadata": {},
   "source": [
    "# Processing of the autism_treatment_centers_autism_now.csv file:"
   ]
  },
  {
   "cell_type": "code",
   "execution_count": 2,
   "metadata": {},
   "outputs": [
    {
     "data": {
      "text/html": [
       "<div>\n",
       "<style scoped>\n",
       "    .dataframe tbody tr th:only-of-type {\n",
       "        vertical-align: middle;\n",
       "    }\n",
       "\n",
       "    .dataframe tbody tr th {\n",
       "        vertical-align: top;\n",
       "    }\n",
       "\n",
       "    .dataframe thead th {\n",
       "        text-align: right;\n",
       "    }\n",
       "</style>\n",
       "<table border=\"1\" class=\"dataframe\">\n",
       "  <thead>\n",
       "    <tr style=\"text-align: right;\">\n",
       "      <th></th>\n",
       "      <th>name</th>\n",
       "      <th>state</th>\n",
       "      <th>city</th>\n",
       "      <th>county</th>\n",
       "      <th>contact info</th>\n",
       "    </tr>\n",
       "  </thead>\n",
       "  <tbody>\n",
       "    <tr>\n",
       "      <th>0</th>\n",
       "      <td>Alabama Autism</td>\n",
       "      <td>Alabama</td>\n",
       "      <td>NaN</td>\n",
       "      <td>NaN</td>\n",
       "      <td>By Website</td>\n",
       "    </tr>\n",
       "    <tr>\n",
       "      <th>1</th>\n",
       "      <td>Arc Fayette Lamar</td>\n",
       "      <td>Alabama</td>\n",
       "      <td>Fayette</td>\n",
       "      <td>Fayette</td>\n",
       "      <td>Arc Fayette Lamar\\r\\n1428 Temple Ave S\\r\\nFaye...</td>\n",
       "    </tr>\n",
       "    <tr>\n",
       "      <th>2</th>\n",
       "      <td>Arc of The Chattahoochee Valley</td>\n",
       "      <td>Alabama</td>\n",
       "      <td>Valley</td>\n",
       "      <td>Chambers</td>\n",
       "      <td>Arc of The Chattahoochee Valley\\r\\nPO Box 416\\...</td>\n",
       "    </tr>\n",
       "    <tr>\n",
       "      <th>3</th>\n",
       "      <td>ARC- Baldwin County</td>\n",
       "      <td>Alabama</td>\n",
       "      <td>Loxley</td>\n",
       "      <td>Baldwin</td>\n",
       "      <td>ARC- Baldwin County\\r\\nPO Box 400\\r\\nLoxley, A...</td>\n",
       "    </tr>\n",
       "    <tr>\n",
       "      <th>4</th>\n",
       "      <td>Athens/Limestone Arc</td>\n",
       "      <td>Alabama</td>\n",
       "      <td>Athens</td>\n",
       "      <td>Limestone</td>\n",
       "      <td>Athens/Limestone Arc\\r\\n427 Rogers Street\\r\\nA...</td>\n",
       "    </tr>\n",
       "  </tbody>\n",
       "</table>\n",
       "</div>"
      ],
      "text/plain": [
       "                              name    state     city     county  \\\n",
       "0                   Alabama Autism  Alabama      NaN        NaN   \n",
       "1                Arc Fayette Lamar  Alabama  Fayette    Fayette   \n",
       "2  Arc of The Chattahoochee Valley  Alabama   Valley   Chambers   \n",
       "3              ARC- Baldwin County  Alabama   Loxley    Baldwin   \n",
       "4             Athens/Limestone Arc  Alabama   Athens  Limestone   \n",
       "\n",
       "                                        contact info  \n",
       "0                                         By Website  \n",
       "1  Arc Fayette Lamar\\r\\n1428 Temple Ave S\\r\\nFaye...  \n",
       "2  Arc of The Chattahoochee Valley\\r\\nPO Box 416\\...  \n",
       "3  ARC- Baldwin County\\r\\nPO Box 400\\r\\nLoxley, A...  \n",
       "4  Athens/Limestone Arc\\r\\n427 Rogers Street\\r\\nA...  "
      ]
     },
     "execution_count": 2,
     "metadata": {},
     "output_type": "execute_result"
    }
   ],
   "source": [
    "dan = pd.read_csv(\"autism_treatment_centers_autism_now.csv\")\n",
    "dan.head()"
   ]
  },
  {
   "cell_type": "code",
   "execution_count": 3,
   "metadata": {},
   "outputs": [],
   "source": [
    "# Fix errors in some \"contact info\" values\n",
    "dan['contact info'] = dan['contact info'].str.replace(' or By Website', '')\n",
    "dan['contact info'] = dan['contact info'].replace('By Website', None)\n",
    "dan['contact info'] = dan['contact info'].str.replace('770-904- 4474', '770-904-4474')"
   ]
  },
  {
   "cell_type": "code",
   "execution_count": 4,
   "metadata": {},
   "outputs": [
    {
     "data": {
      "text/html": [
       "<div>\n",
       "<style scoped>\n",
       "    .dataframe tbody tr th:only-of-type {\n",
       "        vertical-align: middle;\n",
       "    }\n",
       "\n",
       "    .dataframe tbody tr th {\n",
       "        vertical-align: top;\n",
       "    }\n",
       "\n",
       "    .dataframe thead th {\n",
       "        text-align: right;\n",
       "    }\n",
       "</style>\n",
       "<table border=\"1\" class=\"dataframe\">\n",
       "  <thead>\n",
       "    <tr style=\"text-align: right;\">\n",
       "      <th></th>\n",
       "      <th>name</th>\n",
       "      <th>state</th>\n",
       "      <th>city</th>\n",
       "      <th>county</th>\n",
       "      <th>contact info</th>\n",
       "    </tr>\n",
       "  </thead>\n",
       "  <tbody>\n",
       "    <tr>\n",
       "      <th>0</th>\n",
       "      <td>Alabama Autism</td>\n",
       "      <td>Alabama</td>\n",
       "      <td>NaN</td>\n",
       "      <td>NaN</td>\n",
       "      <td>None</td>\n",
       "    </tr>\n",
       "    <tr>\n",
       "      <th>1</th>\n",
       "      <td>Arc Fayette Lamar</td>\n",
       "      <td>Alabama</td>\n",
       "      <td>Fayette</td>\n",
       "      <td>Fayette</td>\n",
       "      <td>1428 Temple Ave S\\r\\nFayette, AL 35555-3111\\r\\...</td>\n",
       "    </tr>\n",
       "    <tr>\n",
       "      <th>2</th>\n",
       "      <td>Arc of The Chattahoochee Valley</td>\n",
       "      <td>Alabama</td>\n",
       "      <td>Valley</td>\n",
       "      <td>Chambers</td>\n",
       "      <td>PO Box 416\\r\\nValley, AL 36854-0416\\r\\nvalleyh...</td>\n",
       "    </tr>\n",
       "    <tr>\n",
       "      <th>3</th>\n",
       "      <td>ARC- Baldwin County</td>\n",
       "      <td>Alabama</td>\n",
       "      <td>Loxley</td>\n",
       "      <td>Baldwin</td>\n",
       "      <td>PO Box 400\\r\\nLoxley, AL 36651\\r\\njsp36@bellso...</td>\n",
       "    </tr>\n",
       "    <tr>\n",
       "      <th>4</th>\n",
       "      <td>Athens/Limestone Arc</td>\n",
       "      <td>Alabama</td>\n",
       "      <td>Athens</td>\n",
       "      <td>Limestone</td>\n",
       "      <td>427 Rogers Street\\r\\nAthens, AL 35611\\r\\ntwsai...</td>\n",
       "    </tr>\n",
       "  </tbody>\n",
       "</table>\n",
       "</div>"
      ],
      "text/plain": [
       "                              name    state     city     county  \\\n",
       "0                   Alabama Autism  Alabama      NaN        NaN   \n",
       "1                Arc Fayette Lamar  Alabama  Fayette    Fayette   \n",
       "2  Arc of The Chattahoochee Valley  Alabama   Valley   Chambers   \n",
       "3              ARC- Baldwin County  Alabama   Loxley    Baldwin   \n",
       "4             Athens/Limestone Arc  Alabama   Athens  Limestone   \n",
       "\n",
       "                                        contact info  \n",
       "0                                               None  \n",
       "1  1428 Temple Ave S\\r\\nFayette, AL 35555-3111\\r\\...  \n",
       "2  PO Box 416\\r\\nValley, AL 36854-0416\\r\\nvalleyh...  \n",
       "3  PO Box 400\\r\\nLoxley, AL 36651\\r\\njsp36@bellso...  \n",
       "4  427 Rogers Street\\r\\nAthens, AL 35611\\r\\ntwsai...  "
      ]
     },
     "execution_count": 4,
     "metadata": {},
     "output_type": "execute_result"
    }
   ],
   "source": [
    "# Remove the name from the contact info\n",
    "def remove_name_from_contact(contact_info, name):\n",
    "    contact_info = contact_info.replace(name, \"\").strip() if contact_info is not None else None\n",
    "    return contact_info\n",
    "\n",
    "dan['contact info'] = dan.apply(lambda x: remove_name_from_contact(x['contact info'], x['name']), axis=1)\n",
    "\n",
    "dan.head()"
   ]
  },
  {
   "cell_type": "code",
   "execution_count": 5,
   "metadata": {},
   "outputs": [
    {
     "data": {
      "text/html": [
       "<div>\n",
       "<style scoped>\n",
       "    .dataframe tbody tr th:only-of-type {\n",
       "        vertical-align: middle;\n",
       "    }\n",
       "\n",
       "    .dataframe tbody tr th {\n",
       "        vertical-align: top;\n",
       "    }\n",
       "\n",
       "    .dataframe thead th {\n",
       "        text-align: right;\n",
       "    }\n",
       "</style>\n",
       "<table border=\"1\" class=\"dataframe\">\n",
       "  <thead>\n",
       "    <tr style=\"text-align: right;\">\n",
       "      <th></th>\n",
       "      <th>city</th>\n",
       "      <th>contact info</th>\n",
       "      <th>county</th>\n",
       "      <th>info</th>\n",
       "      <th>name</th>\n",
       "      <th>state</th>\n",
       "    </tr>\n",
       "  </thead>\n",
       "  <tbody>\n",
       "    <tr>\n",
       "      <th>0</th>\n",
       "      <td>NaN</td>\n",
       "      <td>None</td>\n",
       "      <td>NaN</td>\n",
       "      <td>NaN</td>\n",
       "      <td>Alabama Autism</td>\n",
       "      <td>Alabama</td>\n",
       "    </tr>\n",
       "    <tr>\n",
       "      <th>1</th>\n",
       "      <td>Fayette</td>\n",
       "      <td>1428 Temple Ave S, Fayette, AL 35555-3111</td>\n",
       "      <td>Fayette</td>\n",
       "      <td>(205) 932-8642</td>\n",
       "      <td>Arc Fayette Lamar</td>\n",
       "      <td>Alabama</td>\n",
       "    </tr>\n",
       "    <tr>\n",
       "      <th>2</th>\n",
       "      <td>Valley</td>\n",
       "      <td>PO Box 416, Valley, AL 36854-0416</td>\n",
       "      <td>Chambers</td>\n",
       "      <td>valleyhaven@charterinternet.com, (334) 756-2868</td>\n",
       "      <td>Arc of The Chattahoochee Valley</td>\n",
       "      <td>Alabama</td>\n",
       "    </tr>\n",
       "    <tr>\n",
       "      <th>3</th>\n",
       "      <td>Loxley</td>\n",
       "      <td>PO Box 400, Loxley, AL 36651</td>\n",
       "      <td>Baldwin</td>\n",
       "      <td>jsp36@bellsouth.net, (251) 964-4451</td>\n",
       "      <td>ARC- Baldwin County</td>\n",
       "      <td>Alabama</td>\n",
       "    </tr>\n",
       "    <tr>\n",
       "      <th>4</th>\n",
       "      <td>Athens</td>\n",
       "      <td>427 Rogers Street, Athens, AL 35611</td>\n",
       "      <td>Limestone</td>\n",
       "      <td>twsaint@pcinet.net, (256) 233-2999</td>\n",
       "      <td>Athens/Limestone Arc</td>\n",
       "      <td>Alabama</td>\n",
       "    </tr>\n",
       "  </tbody>\n",
       "</table>\n",
       "</div>"
      ],
      "text/plain": [
       "      city                               contact info     county  \\\n",
       "0      NaN                                       None        NaN   \n",
       "1  Fayette  1428 Temple Ave S, Fayette, AL 35555-3111    Fayette   \n",
       "2   Valley          PO Box 416, Valley, AL 36854-0416   Chambers   \n",
       "3   Loxley               PO Box 400, Loxley, AL 36651    Baldwin   \n",
       "4   Athens        427 Rogers Street, Athens, AL 35611  Limestone   \n",
       "\n",
       "                                              info  \\\n",
       "0                                              NaN   \n",
       "1                                   (205) 932-8642   \n",
       "2  valleyhaven@charterinternet.com, (334) 756-2868   \n",
       "3              jsp36@bellsouth.net, (251) 964-4451   \n",
       "4               twsaint@pcinet.net, (256) 233-2999   \n",
       "\n",
       "                              name    state  \n",
       "0                   Alabama Autism  Alabama  \n",
       "1                Arc Fayette Lamar  Alabama  \n",
       "2  Arc of The Chattahoochee Valley  Alabama  \n",
       "3              ARC- Baldwin County  Alabama  \n",
       "4             Athens/Limestone Arc  Alabama  "
      ]
     },
     "execution_count": 5,
     "metadata": {},
     "output_type": "execute_result"
    }
   ],
   "source": [
    "# Move phone numbers and emails to a new \"info\" column\n",
    "def extract_phone_email(row, contact_info):\n",
    "    if contact_info is None:\n",
    "        return row\n",
    "    regex = r'[\\w\\.-]+@[\\w\\.-]+\\.\\w+|\\(?\\d{3}\\)?[\\s.-]?\\d{3}[\\s.-]?\\d{4}'\n",
    "    phone_email = re.findall(regex, contact_info)\n",
    "    row['info'] = \", \".join(phone_email)\n",
    "    row['contact info'] = re.sub(regex, \"\", contact_info).strip()\n",
    "    return row\n",
    "\n",
    "dan = dan.apply(lambda x: extract_phone_email(x, x['contact info']), axis=1)\n",
    "dan['contact info'] = dan['contact info'].str.replace(\"\\r\\n\", \", \").replace(\"\\n\", \", \").str.strip()\n",
    "\n",
    "dan.head()"
   ]
  },
  {
   "cell_type": "code",
   "execution_count": 6,
   "metadata": {},
   "outputs": [],
   "source": [
    "# Fix errors in some \"address\" values\n",
    "dan['city'] = dan['city'].str.replace('San Bernadino', 'San Bernardino')\n",
    "dan['contact info'] = dan['contact info'].str.replace(', California', ', CA')\n",
    "dan['contact info'] = dan['contact info'].str.replace(', Grand Jct,', ', Grand Junction,')\n",
    "dan['contact info'] = dan['contact info'].str.replace(', Colorado Spgs,', ', Colorado Springs,')\n",
    "dan['contact info'] = dan['contact info'].str.replace(', Ft Walton Bch,', ', Fort Walton Beach,')\n",
    "dan['contact info'] = dan['contact info'].str.replace(', Pt Charlotte,', ', Port Charlotte,')\n",
    "dan['contact info'] = dan['contact info'].str.replace(', St Augustine,', ', St. Augustine,')\n",
    "dan['contact info'] = dan['contact info'].str.replace(', Ft Lauderdale,', ', Fort Lauderdale,')\n",
    "dan['contact info'] = dan['contact info'].str.replace(', Defuniak Spgs,', ', Defuniak Springs,')\n",
    "dan['contact info'] = dan['contact info'].str.replace(', Chicago Hts,', ', Chicago Heights,')\n",
    "dan['contact info'] = dan['contact info'].str.replace(', Donaldsonvlle,', ', Donaldsonville,')\n",
    "dan['contact info'] = dan['contact info'].str.replace(', St Martinvlle,', ', St. Martinville,')\n",
    "dan['contact info'] = dan['contact info'].str.replace(', N Weymouth,', ', North Weymouth,')\n",
    "dan['contact info'] = dan['contact info'].str.replace(', Clinton Twp,', ', Clinton Township,')\n",
    "dan['contact info'] = dan['contact info'].str.replace(', Mt Pleasant,', ', Mount Pleasant,')\n",
    "dan['contact info'] = dan['contact info'].str.replace(', Saint Paul,', ', St. Paul,')\n",
    "dan['contact info'] = dan['contact info'].str.replace(', Saint Cloud,', ', St. Cloud,')\n",
    "dan['contact info'] = dan['contact info'].str.replace(', Saint Louis,', ', St. Louis,')\n",
    "dan['contact info'] = dan['contact info'].str.replace(', N Brunswick,', ', North Brunswick,')\n",
    "dan['city'] = dan['city'].str.replace('Mounty Airy', 'Mount Airy')\n",
    "dan['contact info'] = dan['contact info'].str.replace(', Winston Salem,', ', Winston-Salem,')\n",
    "dan['contact info'] = dan['contact info'].str.replace(', N Providence,', ', North Providence,')\n",
    "dan['contact info'] = dan['contact info'].str.replace(', Fredericksbrg,', ', Fredericksburg,')\n",
    "dan['contact info'] = dan['contact info'].str.replace(', St George,', ', St. George,')\n",
    "dan['city'] = dan['city'].str.replace('Saint George', 'St. George')\n",
    "dan['contact info'] = dan['contact info'].str.replace(', Richland Ctr,', ', Richland Center,')"
   ]
  },
  {
   "cell_type": "code",
   "execution_count": 7,
   "metadata": {},
   "outputs": [],
   "source": [
    "us_state_to_abbrev = {\n",
    "    \"Alabama\": \"AL\",\n",
    "    \"Alaska\": \"AK\",\n",
    "    \"Arizona\": \"AZ\",\n",
    "    \"Arkansas\": \"AR\",\n",
    "    \"California\": \"CA\",\n",
    "    \"Colorado\": \"CO\",\n",
    "    \"Connecticut\": \"CT\",\n",
    "    \"Delaware\": \"DE\",\n",
    "    \"Florida\": \"FL\",\n",
    "    \"Georgia\": \"GA\",\n",
    "    \"Hawaii\": \"HI\",\n",
    "    \"Idaho\": \"ID\",\n",
    "    \"Illinois\": \"IL\",\n",
    "    \"Indiana\": \"IN\",\n",
    "    \"Iowa\": \"IA\",\n",
    "    \"Kansas\": \"KS\",\n",
    "    \"Kentucky\": \"KY\",\n",
    "    \"Louisiana\": \"LA\",\n",
    "    \"Maine\": \"ME\",\n",
    "    \"Maryland\": \"MD\",\n",
    "    \"Massachusetts\": \"MA\",\n",
    "    \"Michigan\": \"MI\",\n",
    "    \"Minnesota\": \"MN\",\n",
    "    \"Mississippi\": \"MS\",\n",
    "    \"Missouri\": \"MO\",\n",
    "    \"Montana\": \"MT\",\n",
    "    \"Nebraska\": \"NE\",\n",
    "    \"Nevada\": \"NV\",\n",
    "    \"New Hampshire\": \"NH\",\n",
    "    \"New Jersey\": \"NJ\",\n",
    "    \"New Mexico\": \"NM\",\n",
    "    \"New York\": \"NY\",\n",
    "    \"North Carolina\": \"NC\",\n",
    "    \"North Dakota\": \"ND\",\n",
    "    \"Ohio\": \"OH\",\n",
    "    \"Oklahoma\": \"OK\",\n",
    "    \"Oregon\": \"OR\",\n",
    "    \"Pennsylvania\": \"PA\",\n",
    "    \"Rhode Island\": \"RI\",\n",
    "    \"South Carolina\": \"SC\",\n",
    "    \"South Dakota\": \"SD\",\n",
    "    \"Tennessee\": \"TN\",\n",
    "    \"Texas\": \"TX\",\n",
    "    \"Utah\": \"UT\",\n",
    "    \"Vermont\": \"VT\",\n",
    "    \"Virginia\": \"VA\",\n",
    "    \"Washington\": \"WA\",\n",
    "    \"West Virginia\": \"WV\",\n",
    "    \"Wisconsin\": \"WI\",\n",
    "    \"Wyoming\": \"WY\",\n",
    "    \"District of Columbia\": \"DC\",\n",
    "    \"American Samoa\": \"AS\",\n",
    "    \"Guam\": \"GU\",\n",
    "    \"Northern Mariana Islands\": \"MP\",\n",
    "    \"Puerto Rico\": \"PR\",\n",
    "    \"United States Minor Outlying Islands\": \"UM\",\n",
    "    \"U.S. Virgin Islands\": \"VI\",\n",
    "}"
   ]
  },
  {
   "cell_type": "code",
   "execution_count": 8,
   "metadata": {},
   "outputs": [
    {
     "name": "stdout",
     "output_type": "stream",
     "text": [
      "City 'Overland Park' not found in address 'Ext 209'\n",
      "Current elements: []\n",
      "Correct address list: ['', '', '']\n",
      "City 'Columbus' not found in address '1-'\n",
      "Current elements: []\n",
      "Correct address list: ['', '', '']\n",
      "City 'Oklahoma City' not found in address 'ext. 47123'\n",
      "Current elements: []\n",
      "Correct address list: ['', '', '']\n",
      "City 'West Columbia' not found in address 'ext 106'\n",
      "Current elements: []\n",
      "Correct address list: ['', '', '']\n",
      "City 'Richmond' not found in address 'ext 101'\n",
      "Current elements: []\n",
      "Correct address list: ['', '', '']\n",
      "City 'Madison' not found in address 'ext 2'\n",
      "Current elements: []\n",
      "Correct address list: ['', '', '']\n"
     ]
    },
    {
     "data": {
      "text/html": [
       "<div>\n",
       "<style scoped>\n",
       "    .dataframe tbody tr th:only-of-type {\n",
       "        vertical-align: middle;\n",
       "    }\n",
       "\n",
       "    .dataframe tbody tr th {\n",
       "        vertical-align: top;\n",
       "    }\n",
       "\n",
       "    .dataframe thead th {\n",
       "        text-align: right;\n",
       "    }\n",
       "</style>\n",
       "<table border=\"1\" class=\"dataframe\">\n",
       "  <thead>\n",
       "    <tr style=\"text-align: right;\">\n",
       "      <th></th>\n",
       "      <th>city</th>\n",
       "      <th>address</th>\n",
       "      <th>county</th>\n",
       "      <th>info</th>\n",
       "      <th>name</th>\n",
       "      <th>state</th>\n",
       "    </tr>\n",
       "  </thead>\n",
       "  <tbody>\n",
       "    <tr>\n",
       "      <th>0</th>\n",
       "      <td>NaN</td>\n",
       "      <td>None</td>\n",
       "      <td>NaN</td>\n",
       "      <td>NaN</td>\n",
       "      <td>Alabama Autism</td>\n",
       "      <td>Alabama</td>\n",
       "    </tr>\n",
       "    <tr>\n",
       "      <th>1</th>\n",
       "      <td>Fayette</td>\n",
       "      <td>,Temple Ave S,1428,Fayette,35555-3111,Fayette</td>\n",
       "      <td>Fayette</td>\n",
       "      <td>(205) 932-8642</td>\n",
       "      <td>Arc Fayette Lamar</td>\n",
       "      <td>Alabama</td>\n",
       "    </tr>\n",
       "    <tr>\n",
       "      <th>2</th>\n",
       "      <td>Valley</td>\n",
       "      <td>416,,,Valley,36854-0416,Chambers</td>\n",
       "      <td>Chambers</td>\n",
       "      <td>valleyhaven@charterinternet.com, (334) 756-2868</td>\n",
       "      <td>Arc of The Chattahoochee Valley</td>\n",
       "      <td>Alabama</td>\n",
       "    </tr>\n",
       "    <tr>\n",
       "      <th>3</th>\n",
       "      <td>Loxley</td>\n",
       "      <td>400,,,Loxley,36651,Baldwin</td>\n",
       "      <td>Baldwin</td>\n",
       "      <td>jsp36@bellsouth.net, (251) 964-4451</td>\n",
       "      <td>ARC- Baldwin County</td>\n",
       "      <td>Alabama</td>\n",
       "    </tr>\n",
       "    <tr>\n",
       "      <th>4</th>\n",
       "      <td>Athens</td>\n",
       "      <td>,Rogers Street,427,Athens,35611,Limestone</td>\n",
       "      <td>Limestone</td>\n",
       "      <td>twsaint@pcinet.net, (256) 233-2999</td>\n",
       "      <td>Athens/Limestone Arc</td>\n",
       "      <td>Alabama</td>\n",
       "    </tr>\n",
       "  </tbody>\n",
       "</table>\n",
       "</div>"
      ],
      "text/plain": [
       "      city                                        address     county  \\\n",
       "0      NaN                                           None        NaN   \n",
       "1  Fayette  ,Temple Ave S,1428,Fayette,35555-3111,Fayette    Fayette   \n",
       "2   Valley               416,,,Valley,36854-0416,Chambers   Chambers   \n",
       "3   Loxley                     400,,,Loxley,36651,Baldwin    Baldwin   \n",
       "4   Athens      ,Rogers Street,427,Athens,35611,Limestone  Limestone   \n",
       "\n",
       "                                              info  \\\n",
       "0                                              NaN   \n",
       "1                                   (205) 932-8642   \n",
       "2  valleyhaven@charterinternet.com, (334) 756-2868   \n",
       "3              jsp36@bellsouth.net, (251) 964-4451   \n",
       "4               twsaint@pcinet.net, (256) 233-2999   \n",
       "\n",
       "                              name    state  \n",
       "0                   Alabama Autism  Alabama  \n",
       "1                Arc Fayette Lamar  Alabama  \n",
       "2  Arc of The Chattahoochee Valley  Alabama  \n",
       "3              ARC- Baldwin County  Alabama  \n",
       "4             Athens/Limestone Arc  Alabama  "
      ]
     },
     "execution_count": 8,
     "metadata": {},
     "output_type": "execute_result"
    }
   ],
   "source": [
    "# rename \"contact info\" to \"address\"\n",
    "dan = dan.rename(columns={'contact info': 'address'})\n",
    "\n",
    "# Fix the \"address\" column format\n",
    "def fix_address_format(state: str, county: str, city: str, address: str):\n",
    "    if not address:\n",
    "        return None\n",
    "    address_elements = address.split(\", \")\n",
    "    correct_address_list = []\n",
    "    # check if the first element is a PO box\n",
    "    if \"PO Box\" in address_elements[0]:\n",
    "        correct_address_list.append(address_elements.pop(0).split(\" \")[2])\n",
    "    else:\n",
    "        correct_address_list.append(\"\")\n",
    "\n",
    "    if address_elements[0].split(\" \")[0].isdigit():\n",
    "        st_number, st_name = address_elements.pop(0).split(\" \", 1)\n",
    "        correct_address_list.extend([st_name, st_number])\n",
    "    else:\n",
    "        correct_address_list.extend([\"\", \"\"])\n",
    "\n",
    "    # check if the third element is the same as the city\n",
    "    while len(address_elements) > 0 and address_elements[0] != city:\n",
    "        address_elements.pop(0)\n",
    "    if len(address_elements) == 0:\n",
    "        print(f\"City '{city}' not found in address '{address}'\\nCurrent elements: {address_elements}\\nCorrect address list: {correct_address_list}\")\n",
    "        return None\n",
    "    else:\n",
    "        correct_address_list.append(address_elements.pop(0))\n",
    "\n",
    "    # check if the fourth element is of the form \"state code zip\"\n",
    "    while len(address_elements) > 0 and address_elements[0].split(\" \")[0] != us_state_to_abbrev[state]:\n",
    "        address_elements.pop(0)\n",
    "    if len(address_elements) == 0:\n",
    "        print(f\"State '{state}' not found in address '{address}'\\nCurrent elements: {address_elements}\\nCorrect address list: {correct_address_list}\")\n",
    "        return None\n",
    "    else:\n",
    "        correct_address_list.append(address_elements.pop(0).split(\" \")[1])\n",
    "\n",
    "    # add county at the end\n",
    "    correct_address_list.append(county)\n",
    "\n",
    "    return \",\".join(correct_address_list).replace(\", ,\", \",,\").strip()\n",
    "\n",
    "# Apply the function to the \"address\" column and create new columns\n",
    "dan['address'] = dan.apply(lambda x: fix_address_format(x['state'], x['county'], x['city'], x['address']), axis=1)\n",
    "\n",
    "# Print the modified DataFrame\n",
    "dan.head()"
   ]
  },
  {
   "cell_type": "code",
   "execution_count": 9,
   "metadata": {},
   "outputs": [
    {
     "data": {
      "text/html": [
       "<div>\n",
       "<style scoped>\n",
       "    .dataframe tbody tr th:only-of-type {\n",
       "        vertical-align: middle;\n",
       "    }\n",
       "\n",
       "    .dataframe tbody tr th {\n",
       "        vertical-align: top;\n",
       "    }\n",
       "\n",
       "    .dataframe thead th {\n",
       "        text-align: right;\n",
       "    }\n",
       "</style>\n",
       "<table border=\"1\" class=\"dataframe\">\n",
       "  <thead>\n",
       "    <tr style=\"text-align: right;\">\n",
       "      <th></th>\n",
       "      <th>name</th>\n",
       "      <th>country</th>\n",
       "      <th>city</th>\n",
       "      <th>address</th>\n",
       "      <th>latitude</th>\n",
       "      <th>longitude</th>\n",
       "      <th>info</th>\n",
       "    </tr>\n",
       "  </thead>\n",
       "  <tbody>\n",
       "    <tr>\n",
       "      <th>1</th>\n",
       "      <td>Arc Fayette Lamar</td>\n",
       "      <td>USA</td>\n",
       "      <td>Alabama</td>\n",
       "      <td>,Temple Ave S,1428,Fayette,35555-3111,Fayette</td>\n",
       "      <td>None</td>\n",
       "      <td>None</td>\n",
       "      <td>(205) 932-8642</td>\n",
       "    </tr>\n",
       "    <tr>\n",
       "      <th>2</th>\n",
       "      <td>Arc of The Chattahoochee Valley</td>\n",
       "      <td>USA</td>\n",
       "      <td>Alabama</td>\n",
       "      <td>416,,,Valley,36854-0416,Chambers</td>\n",
       "      <td>None</td>\n",
       "      <td>None</td>\n",
       "      <td>valleyhaven@charterinternet.com, (334) 756-2868</td>\n",
       "    </tr>\n",
       "    <tr>\n",
       "      <th>3</th>\n",
       "      <td>ARC- Baldwin County</td>\n",
       "      <td>USA</td>\n",
       "      <td>Alabama</td>\n",
       "      <td>400,,,Loxley,36651,Baldwin</td>\n",
       "      <td>None</td>\n",
       "      <td>None</td>\n",
       "      <td>jsp36@bellsouth.net, (251) 964-4451</td>\n",
       "    </tr>\n",
       "    <tr>\n",
       "      <th>4</th>\n",
       "      <td>Athens/Limestone Arc</td>\n",
       "      <td>USA</td>\n",
       "      <td>Alabama</td>\n",
       "      <td>,Rogers Street,427,Athens,35611,Limestone</td>\n",
       "      <td>None</td>\n",
       "      <td>None</td>\n",
       "      <td>twsaint@pcinet.net, (256) 233-2999</td>\n",
       "    </tr>\n",
       "    <tr>\n",
       "      <th>6</th>\n",
       "      <td>Autism Society of Alabama</td>\n",
       "      <td>USA</td>\n",
       "      <td>Alabama</td>\n",
       "      <td>,Dolly Ridge Road,4217,Birmingham,35243,Jeffer...</td>\n",
       "      <td>None</td>\n",
       "      <td>None</td>\n",
       "      <td>877-428-8476</td>\n",
       "    </tr>\n",
       "  </tbody>\n",
       "</table>\n",
       "</div>"
      ],
      "text/plain": [
       "                              name country     city  \\\n",
       "1                Arc Fayette Lamar     USA  Alabama   \n",
       "2  Arc of The Chattahoochee Valley     USA  Alabama   \n",
       "3              ARC- Baldwin County     USA  Alabama   \n",
       "4             Athens/Limestone Arc     USA  Alabama   \n",
       "6        Autism Society of Alabama     USA  Alabama   \n",
       "\n",
       "                                             address latitude longitude  \\\n",
       "1      ,Temple Ave S,1428,Fayette,35555-3111,Fayette     None      None   \n",
       "2                   416,,,Valley,36854-0416,Chambers     None      None   \n",
       "3                         400,,,Loxley,36651,Baldwin     None      None   \n",
       "4          ,Rogers Street,427,Athens,35611,Limestone     None      None   \n",
       "6  ,Dolly Ridge Road,4217,Birmingham,35243,Jeffer...     None      None   \n",
       "\n",
       "                                              info  \n",
       "1                                   (205) 932-8642  \n",
       "2  valleyhaven@charterinternet.com, (334) 756-2868  \n",
       "3              jsp36@bellsouth.net, (251) 964-4451  \n",
       "4               twsaint@pcinet.net, (256) 233-2999  \n",
       "6                                     877-428-8476  "
      ]
     },
     "execution_count": 9,
     "metadata": {},
     "output_type": "execute_result"
    }
   ],
   "source": [
    "# Add missing columns\n",
    "dan['country'] = \"USA\"\n",
    "dan['latitude'] = None\n",
    "dan['longitude'] = None\n",
    "\n",
    "# Define the desired order of columns\n",
    "desired_columns = ['name', 'country', 'state', 'address', 'latitude', 'longitude', 'info']\n",
    "\n",
    "# Reorganize the columns\n",
    "dan = dan.reindex(columns=desired_columns)\n",
    "\n",
    "# Rename \"state\" to \"city\"\n",
    "dan = dan.rename(columns={'state': 'city'})\n",
    "\n",
    "# Remove rows with empty address\n",
    "dan = dan[dan['address'].notna()]\n",
    "\n",
    "# Print the updated DataFrame\n",
    "dan.head()"
   ]
  },
  {
   "cell_type": "code",
   "execution_count": 10,
   "metadata": {},
   "outputs": [],
   "source": [
    "dan.to_csv('autism_treatment_centers_autism_now_processed.csv', index=False)"
   ]
  },
  {
   "cell_type": "markdown",
   "metadata": {},
   "source": [
    "# Merging and Exporting Multiple Dataframes into a Single CSV File"
   ]
  },
  {
   "cell_type": "code",
   "execution_count": null,
   "metadata": {},
   "outputs": [],
   "source": [
    "\n",
    "# Charger les fichiers CSV\n",
    "df1 = pd.read_csv('autism_treatment_centers_placidway_processed.csv')\n",
    "df2 = pd.read_csv('autism_treatment_centers_bookimed_processed.csv')\n",
    "df3 = pd.read_csv('autism_traitement_centers_Algeria_processed.csv')\n",
    "\n"
   ]
  },
  {
   "cell_type": "code",
   "execution_count": null,
   "metadata": {},
   "outputs": [],
   "source": [
    "df1.head()"
   ]
  },
  {
   "cell_type": "code",
   "execution_count": null,
   "metadata": {},
   "outputs": [],
   "source": [
    "df2.head()"
   ]
  },
  {
   "cell_type": "code",
   "execution_count": null,
   "metadata": {},
   "outputs": [],
   "source": [
    "df3.head()"
   ]
  },
  {
   "cell_type": "code",
   "execution_count": null,
   "metadata": {},
   "outputs": [],
   "source": [
    "merged_df = pd.concat([df1, df2, df3], ignore_index=True)\n",
    "merged_df.head(30)\n"
   ]
  },
  {
   "cell_type": "code",
   "execution_count": null,
   "metadata": {},
   "outputs": [],
   "source": [
    "merged_df.to_csv('autism_center.csv', index=False)"
   ]
  },
  {
   "cell_type": "code",
   "execution_count": 6,
   "metadata": {},
   "outputs": [],
   "source": [
    "final_d = pd.read_csv('autism_center_b.csv')\n",
    "d4 = pd.read_csv('autism_treatment_centers_autism_now_processed.csv')\n",
    "\n",
    "# reorder the columns \"city\" and \"country\" to \"country\" and \"city\"\n",
    "final_d = final_d[['name', 'country', 'city', 'address', 'latitude', 'longitude', 'info', 'free_quote_link']]\n",
    "\n",
    "merged_df = pd.concat([final_d, d4], ignore_index=True)\n",
    "merged_df.to_csv('autism_center.csv', index=False)"
   ]
  }
 ],
 "metadata": {
  "kernelspec": {
   "display_name": "Python 3",
   "language": "python",
   "name": "python3"
  },
  "language_info": {
   "codemirror_mode": {
    "name": "ipython",
    "version": 3
   },
   "file_extension": ".py",
   "mimetype": "text/x-python",
   "name": "python",
   "nbconvert_exporter": "python",
   "pygments_lexer": "ipython3",
   "version": "3.11.7"
  }
 },
 "nbformat": 4,
 "nbformat_minor": 2
}
