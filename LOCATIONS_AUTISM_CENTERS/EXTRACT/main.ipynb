{
 "cells": [
  {
   "cell_type": "code",
   "execution_count": null,
   "metadata": {},
   "outputs": [],
   "source": [
    "from bs4 import BeautifulSoup\n",
    "from selenium import webdriver\n",
    "from selenium.webdriver.common.by import By\n",
    "from selenium.webdriver.support.wait import WebDriverWait\n",
    "from selenium.webdriver.support import expected_conditions as EC\n",
    "from urllib.parse import urlparse, parse_qs\n",
    "from time import sleep\n",
    "import requests, csv\n",
    "\n",
    "WAIT_TIMEOUT = 20"
   ]
  },
  {
   "cell_type": "markdown",
   "metadata": {},
   "source": [
    "## 1. [PlacidWay](https://www.placidway.com/article/3207/Best-Autism-Treatment-Centers-in-the-World)\n",
    "\n",
    "Best Autism Treatment Centers in the World"
   ]
  },
  {
   "cell_type": "code",
   "execution_count": null,
   "metadata": {},
   "outputs": [],
   "source": [
    "url = 'https://www.placidway.com/article/3207/Best-Autism-Treatment-Centers-in-the-World'\n",
    "\n",
    "response = requests.get(url)\n",
    "soup = BeautifulSoup(response.text, 'html.parser')\n",
    "\n",
    "soup.find('title')"
   ]
  },
  {
   "cell_type": "code",
   "execution_count": null,
   "metadata": {},
   "outputs": [],
   "source": [
    "rows = soup.find('table').find_all('tr')[1:]\n",
    "\n",
    "len(rows)"
   ]
  },
  {
   "cell_type": "code",
   "execution_count": null,
   "metadata": {},
   "outputs": [],
   "source": [
    "rows_infos = []\n",
    "for row in rows:\n",
    "    cells = row.find_all('td')\n",
    "    link_element = cells[0].find('a')\n",
    "    if 'href' not in link_element.attrs:\n",
    "        continue\n",
    "    link = link_element['href']\n",
    "    name = link_element.text.strip()\n",
    "    country = cells[1].text.strip()\n",
    "    rows_infos.append((name, country, link))\n",
    "\n",
    "len(rows_infos), rows_infos[0], rows_infos[-1]"
   ]
  },
  {
   "cell_type": "code",
   "execution_count": null,
   "metadata": {},
   "outputs": [],
   "source": [
    "data = []\n",
    "for name, country, row_url in rows_infos:\n",
    "    try:\n",
    "        row_response = requests.get(row_url)\n",
    "        row_soup = BeautifulSoup(row_response.text, 'html.parser')\n",
    "\n",
    "        second_name = row_soup.find('div', class_='heading-thumb-wrapper').find('h1').text.strip()\n",
    "        address_text = row_soup.find('address').text.strip()\n",
    "        location_element = row_soup.find('section', id='location')\n",
    "        latitude = location_element.find('input', id='latitude')['value'].strip() if location_element else ''\n",
    "        longitude = location_element.find('input', id='longitude')['value'].strip() if location_element else ''\n",
    "\n",
    "        data.append((name, second_name, country, address_text, latitude, longitude))\n",
    "    except:\n",
    "        print('Error in Link:', row_url)\n",
    "        continue\n",
    "\n",
    "len(data), data[0], data[-1]"
   ]
  },
  {
   "cell_type": "code",
   "execution_count": null,
   "metadata": {},
   "outputs": [],
   "source": [
    "with open('autism_treatment_centers_placidway.csv', 'w', newline='', encoding='utf-8') as f:\n",
    "    writer = csv.writer(f)\n",
    "    writer.writerow(['name', 'second_name', 'country', 'address', 'latitude', 'longitude'])\n",
    "    writer.writerows(data)"
   ]
  },
  {
   "cell_type": "markdown",
   "metadata": {},
   "source": [
    "## 2. [Bookimed](https://us-uk.bookimed.com/clinics/illness=autism/)\n",
    "\n",
    "16 Verified Autism Treatment Clinics Globally"
   ]
  },
  {
   "cell_type": "code",
   "execution_count": null,
   "metadata": {},
   "outputs": [],
   "source": [
    "url = 'https://us-uk.bookimed.com/clinics/illness=autism/'\n",
    "driver = webdriver.Chrome()\n",
    "\n",
    "driver.get(url)\n",
    "driver.maximize_window()\n",
    "\n",
    "WebDriverWait(driver, WAIT_TIMEOUT).until(EC.element_to_be_clickable((By.CSS_SELECTOR, '.cookie-button.cookie-solution button'))).click()\n",
    "driver.execute_script('arguments[0].remove()', WebDriverWait(driver, WAIT_TIMEOUT).until(EC.presence_of_element_located((By.CLASS_NAME, 'clinics-sticky'))))\n",
    "driver.title"
   ]
  },
  {
   "cell_type": "code",
   "execution_count": null,
   "metadata": {},
   "outputs": [],
   "source": [
    "cards = WebDriverWait(driver, WAIT_TIMEOUT).until(EC.presence_of_all_elements_located((By.CSS_SELECTOR, '#clinics.clinics-list div[index]')))\n",
    "\n",
    "len(cards)"
   ]
  },
  {
   "cell_type": "code",
   "execution_count": null,
   "metadata": {},
   "outputs": [],
   "source": [
    "data: list[list[str]] = []\n",
    "for card in cards:\n",
    "    try:\n",
    "        content_element = WebDriverWait(card, WAIT_TIMEOUT).until(EC.presence_of_element_located((By.CSS_SELECTOR, '.clinic-card > .clinic-card__content-container > .clinic-card__content')))\n",
    "        header_element = content_element.find_element(By.CSS_SELECTOR, '.clinic-card__title')\n",
    "        title_element = header_element.find_element(By.CSS_SELECTOR, 'div:first-child > h2 > a')\n",
    "        title = title_element.text.strip()\n",
    "        link = title_element.get_attribute('href')\n",
    "        address = header_element.find_element(By.CSS_SELECTOR, '.clinic-card__country ').text.strip()\n",
    "\n",
    "        WebDriverWait(card, WAIT_TIMEOUT).until(EC.element_to_be_clickable((By.CSS_SELECTOR, '.clinic-card__text-container .clinic-card__show-text'))).click()\n",
    "        modal_wrapper = WebDriverWait(card, WAIT_TIMEOUT).until(EC.presence_of_element_located((By.CSS_SELECTOR, '.clinic-card__modal .card-info__wrapper')))\n",
    "        modal_info = modal_wrapper.find_element(By.CSS_SELECTOR, '.card-info')\n",
    "        modal_info_block = modal_info.find_element(By.CSS_SELECTOR, '.card-info__container > .card-info__content > .card-info__content-item.active > .card-info__info-block')\n",
    "        modal_info_block_content = [el.text.strip() for el in modal_info_block.find_elements(By.CLASS_NAME, 'card-info__info-clinic')]\n",
    "        free_quote_link = modal_info.find_element(By.CSS_SELECTOR, '.card-info__buttons > a').get_attribute('href')\n",
    "        WebDriverWait(modal_wrapper, WAIT_TIMEOUT).until(EC.element_to_be_clickable((By.CSS_SELECTOR, '.card-info__close'))).click()\n",
    "        \n",
    "        data.append([title, link, address, ', '.join(modal_info_block_content), free_quote_link])\n",
    "    except:\n",
    "        print(f'Error in Card: {card.get_attribute('index')}')\n",
    "        continue\n",
    "\n",
    "len(data), data[0], data[-1]"
   ]
  },
  {
   "cell_type": "code",
   "execution_count": null,
   "metadata": {},
   "outputs": [],
   "source": [
    "for clinic_data in data:\n",
    "    try:\n",
    "        driver.get(clinic_data[1])\n",
    "        clinic_map = WebDriverWait(driver, WAIT_TIMEOUT).until(EC.presence_of_element_located((By.CSS_SELECTOR, 'section.clinic-page__map')))\n",
    "        address = clinic_map.find_element(By.CLASS_NAME, 'clinic-page__map-title').text.strip()\n",
    "        driver.execute_script('arguments[0].scrollIntoView(true);', clinic_map)\n",
    "\n",
    "        clinic_map_iframe = WebDriverWait(driver, WAIT_TIMEOUT).until(EC.presence_of_element_located((By.CSS_SELECTOR, 'section.clinic-page__map .lazy-component > iframe')))\n",
    "        map_parsed_url = urlparse(clinic_map_iframe.get_attribute('src'))\n",
    "        map_query = parse_qs(map_parsed_url.query)\n",
    "        [latitude, longitude] = map_query['ll'][0].split(',')\n",
    "\n",
    "        clinic_data[1] = clinic_data[2]\n",
    "        clinic_data[2] = address\n",
    "        clinic_data.extend([latitude, longitude])\n",
    "    except:\n",
    "        print(f'Error in Clinic: {clinic_data[0]}')\n",
    "        continue\n",
    "\n",
    "data[0], data[-1]"
   ]
  },
  {
   "cell_type": "code",
   "execution_count": null,
   "metadata": {},
   "outputs": [],
   "source": [
    "for clinic_data in data:\n",
    "    clinic_data[5] = '' if clinic_data[5] == '0' else clinic_data[5]\n",
    "    clinic_data[6] = '' if clinic_data[6] == '0' else clinic_data[6]\n",
    "\n",
    "with open('autism_treatment_centers_bookimed.csv', 'w', newline='', encoding='utf-8') as f:\n",
    "    writer = csv.writer(f)\n",
    "    writer.writerow(['name', 'country', 'address', 'info', 'free_quote_link', 'latitude', 'longitude'])\n",
    "    writer.writerows(data)\n",
    "\n",
    "driver.quit()"
   ]
  },
  {
   "cell_type": "markdown",
   "metadata": {},
   "source": [
    "## 3. [Autism Now](https://autismnow.org/map/)\n",
    "\n",
    "A growing collection of agencies across the United States that offer services and resources centered on autism and other developmental disabilities"
   ]
  },
  {
   "cell_type": "code",
   "execution_count": 11,
   "metadata": {},
   "outputs": [],
   "source": [
    "url = 'https://autismnow.org/map/'\n",
    "driver = webdriver.Chrome()"
   ]
  },
  {
   "cell_type": "code",
   "execution_count": 12,
   "metadata": {},
   "outputs": [],
   "source": [
    "i = 47\n",
    "def click_link() -> str:\n",
    "    global i\n",
    "    driver.get(url)\n",
    "    WebDriverWait(driver, WAIT_TIMEOUT).until(EC.element_to_be_clickable((By.CSS_SELECTOR, 'li#toc-nav'))).click()\n",
    "    ele_to_remove = WebDriverWait(driver, WAIT_TIMEOUT).until(EC.presence_of_element_located((By.CSS_SELECTOR, 'div#screenOptions')))\n",
    "    driver.execute_script('arguments[0].remove()', ele_to_remove)\n",
    "    states_links = WebDriverWait(driver, WAIT_TIMEOUT).until(EC.presence_of_all_elements_located((By.CSS_SELECTOR, 'div#stateTOC li > a')))\n",
    "    if i >= len(states_links):\n",
    "        return None\n",
    "    state_name = states_links[i].text.strip()\n",
    "    WebDriverWait(driver, WAIT_TIMEOUT).until(EC.element_to_be_clickable(states_links[i])).click()\n",
    "    i += 1\n",
    "    return state_name"
   ]
  },
  {
   "cell_type": "code",
   "execution_count": 13,
   "metadata": {},
   "outputs": [
    {
     "name": "stdout",
     "output_type": "stream",
     "text": [
      "The Arc of Augusta\n",
      "The Arc of Central Virginia\n",
      "The Arc of Greater Prince William/INSIGHT\n",
      "The Arc of Greater Williamsburg\n",
      "The Arc of Harrisonburg and Rockingham\n",
      "The Arc of Loudoun\n",
      "The Arc of North Central Virginia\n",
      "The Arc of Northern Shenandoah Valley\n",
      "The Arc of Northern Virginia\n",
      "The Arc of Rockbridge\n",
      "The Arc of South Hampton Roads\n",
      "The Arc of Southern Virginia\n",
      "The Arc of Southside\n",
      "The Arc of the Piedmont\n",
      "The Arc of the Roanoke Valley\n",
      "The Arc of the Virginia Peninsula\n",
      "The Arc of Virginia\n",
      "The Arc of Warren County\n",
      "The Arc South of the James\n",
      "The Greater Richmond ARC\n",
      "AdultASD.org\n",
      "Autism Guidebook for Washington State\n",
      "Autism Resources – Washington State Dept. Of Health\n",
      "Autism Society of Washington\n",
      "Easter Seals of Washington\n",
      "Lake Washington School District Transition Academy\n",
      "Northwest Autism Foundation\n",
      "The Arc of Grays Harbor\n",
      "The Arc of Island and Skagit\n",
      "The Arc of King County\n",
      "The Arc of Kitsap & Jefferson Counties\n",
      "The Arc of Snohomish County\n",
      "The Arc of Southwest Washington\n",
      "The Arc of Spokane\n",
      "The Arc of Tri-Cities\n",
      "The Arc of Washington State\n",
      "The Arc of Whatcom County\n",
      "The Arc of Yakima County\n",
      "The Washington State Fathers Network (WSFN)\n",
      "Autism Society of West Virginia\n",
      "Autism Speaks of West Virginia\n",
      "Easter Seals of West Virginia\n",
      "The Arc of Harrison County\n",
      "The Arc of Ohio County\n",
      "The Arc of the Mid Ohio Valley\n",
      "The Arc of the Three Rivers\n",
      "The Arc of West Virginia\n",
      "Autism Society of Wisconsin\n",
      "Autism Speaks of Wisconsin\n",
      "Easter Seals of Wisconsin\n",
      "Langlade County Arc\n",
      "Lincoln County Arc\n",
      "Richland County Arc\n",
      "The Arc – Green County\n",
      "The Arc – Monroe County\n",
      "The Arc Dane County\n",
      "The Arc Eau Claire\n",
      "The Arc of Columbia County\n",
      "The Arc of Dodge County\n",
      "The Arc of Dunn County\n",
      "The Arc of Fond du Lac\n",
      "The Arc of Racine County\n",
      "The Arc of Washington County\n",
      "The Arc of Wisconsin\n",
      "Waupaca County Arc\n",
      "Wisconsin Autism Resources\n",
      "Wisconsin Early Autism Project\n",
      "Autism Action of Wyoming\n",
      "Autism Society of Wyoming\n",
      "Autism Speaks of Wyoming\n",
      "Child Development Center Region II\n",
      "Easter Seals Of Wyoming\n",
      "Magic City Enterprises\n",
      "The Arc of Laramie County\n",
      "The Arc of Natrona County\n",
      "The Arc of Wyoming\n"
     ]
    }
   ],
   "source": [
    "clinics_data = []\n",
    "while state_name := click_link():\n",
    "    clinics_rows = WebDriverWait(driver, WAIT_TIMEOUT).until(EC.presence_of_all_elements_located((By.CSS_SELECTOR, 'div.state-list tbody > tr')))\n",
    "    clinics_matrix = [clinic.find_elements(By.CSS_SELECTOR, 'td') for clinic in clinics_rows]\n",
    "    clinics_names = [row[0].find_element(By.CSS_SELECTOR, 'a').text.strip() for row in clinics_matrix]\n",
    "    clinics_links = [row[0].find_element(By.CSS_SELECTOR, 'a').get_attribute('href') for row in clinics_matrix]\n",
    "    clinics_cities = [row[1].text.strip() for row in clinics_matrix]\n",
    "    clinics_counties = [row[2].text.strip() for row in clinics_matrix]\n",
    "    iter_list = list(zip(clinics_names, clinics_links, clinics_cities, clinics_counties))\n",
    "    for name, link, city, county in iter_list[9:] if i == 48 else iter_list:\n",
    "        driver.get(link)\n",
    "        contact_element = WebDriverWait(driver, WAIT_TIMEOUT).until(EC.presence_of_element_located((By.XPATH, \"//h4[contains(text(), 'Contact information')]/following-sibling::p[1]\")))\n",
    "        clinics_data.append([name, state_name, city, county, contact_element.text.strip()])\n",
    "        print(name)"
   ]
  },
  {
   "cell_type": "code",
   "execution_count": 14,
   "metadata": {},
   "outputs": [],
   "source": [
    "with open('autism_treatment_centers_autism_now.csv', 'a', newline='', encoding='utf-8') as f:\n",
    "    writer = csv.writer(f)\n",
    "    writer.writerow(['name', 'state', 'city', 'county', 'contact info'])\n",
    "    writer.writerows(clinics_data)\n",
    "\n",
    "driver.quit()"
   ]
  }
 ],
 "metadata": {
  "kernelspec": {
   "display_name": "scraping",
   "language": "python",
   "name": "python3"
  },
  "language_info": {
   "codemirror_mode": {
    "name": "ipython",
    "version": 3
   },
   "file_extension": ".py",
   "mimetype": "text/x-python",
   "name": "python",
   "nbconvert_exporter": "python",
   "pygments_lexer": "ipython3",
   "version": "3.12.0"
  }
 },
 "nbformat": 4,
 "nbformat_minor": 2
}
