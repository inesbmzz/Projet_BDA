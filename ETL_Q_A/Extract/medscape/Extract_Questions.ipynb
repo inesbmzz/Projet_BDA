{
 "cells": [
  {
   "cell_type": "code",
   "execution_count": 2,
   "metadata": {},
   "outputs": [],
   "source": [
    "import PyPDF2\n",
    "import csv"
   ]
  },
  {
   "cell_type": "code",
   "execution_count": 3,
   "metadata": {},
   "outputs": [],
   "source": [
    "# Open the PDF file\n",
    "with open('medscape_content.pdf', 'rb') as file:\n",
    "    reader = PyPDF2.PdfReader(file)\n",
    "    # Define the range of pages to extract questions from\n",
    "    start_page = 30\n",
    "    end_page = 33\n",
    "\n",
    "    extracted_text = \"\"\n",
    "    \n",
    "    # Loop through the specified pages\n",
    "    for page_num in range(start_page - 1, end_page):\n",
    "        page = reader.pages[page_num]\n",
    "        text = page.extract_text()\n",
    "        extracted_text += text"
   ]
  },
  {
   "cell_type": "code",
   "execution_count": 4,
   "metadata": {},
   "outputs": [],
   "source": [
    "# Write the extracted text to a .txt file\n",
    "with open('data/question/extracted_text2.txt', 'w') as txt_file:\n",
    "    txt_file.write(extracted_text)"
   ]
  },
  {
   "cell_type": "markdown",
   "metadata": {},
   "source": [
    "Edit text file"
   ]
  },
  {
   "cell_type": "code",
   "execution_count": 5,
   "metadata": {},
   "outputs": [],
   "source": [
    "# Read the extracted text from the .txt file\n",
    "with open('data/question/extracted_text.txt', 'r') as txt_file:\n",
    "    lines = txt_file.read().split('\\n')"
   ]
  },
  {
   "cell_type": "code",
   "execution_count": 6,
   "metadata": {},
   "outputs": [],
   "source": [
    "# Write the extracted text to a CSV file with header\n",
    "with open('data/question/extracted_text.csv', 'w', newline='') as csvfile:\n",
    "    writer = csv.writer(csvfile)\n",
    "    # Write the header row\n",
    "    writer.writerow(['Question'])\n",
    "    # Write each line of text as a row\n",
    "    for line in lines:\n",
    "        writer.writerow([line])"
   ]
  }
 ],
 "metadata": {
  "kernelspec": {
   "display_name": "Python 3",
   "language": "python",
   "name": "python3"
  },
  "language_info": {
   "codemirror_mode": {
    "name": "ipython",
    "version": 3
   },
   "file_extension": ".py",
   "mimetype": "text/x-python",
   "name": "python",
   "nbconvert_exporter": "python",
   "pygments_lexer": "ipython3",
   "version": "3.10.12"
  },
  "orig_nbformat": 4
 },
 "nbformat": 4,
 "nbformat_minor": 2
}
