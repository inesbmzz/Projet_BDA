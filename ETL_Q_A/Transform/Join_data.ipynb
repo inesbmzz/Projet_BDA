{
 "cells": [
  {
   "cell_type": "code",
   "execution_count": 1,
   "metadata": {},
   "outputs": [],
   "source": [
    "import pandas as pd"
   ]
  },
  {
   "cell_type": "code",
   "execution_count": 12,
   "metadata": {},
   "outputs": [],
   "source": [
    "# Load the three CSV files into dataframes\n",
    "df1 = pd.read_csv('data/childmind_extracted_data.csv', usecols=['Question', 'Answer'])\n",
    "df2 = pd.read_csv('data/medscape_extracted_data.csv', usecols=['Question', 'Answer'])\n",
    "df3 = pd.read_csv('data/parent_guid_extracted_data.csv', usecols=['Question', 'Answer'])"
   ]
  },
  {
   "cell_type": "code",
   "execution_count": 13,
   "metadata": {},
   "outputs": [],
   "source": [
    "# Add a 'Source' column to each dataframe \n",
    "df1['Source'] = 'childmind'\n",
    "df2['Source'] = 'medscape'\n",
    "df3['Source'] = 'parent_guid'"
   ]
  },
  {
   "cell_type": "code",
   "execution_count": 14,
   "metadata": {},
   "outputs": [],
   "source": [
    "# Concatenate the dataframes vertically\n",
    "concatenated_df = pd.concat([df1, df2, df3])"
   ]
  },
  {
   "cell_type": "code",
   "execution_count": 15,
   "metadata": {},
   "outputs": [],
   "source": [
    "# Reset the index of the concatenated dataframe\n",
    "concatenated_df.reset_index(drop=True, inplace=True)"
   ]
  },
  {
   "cell_type": "code",
   "execution_count": 18,
   "metadata": {},
   "outputs": [
    {
     "data": {
      "text/html": [
       "<div>\n",
       "<style scoped>\n",
       "    .dataframe tbody tr th:only-of-type {\n",
       "        vertical-align: middle;\n",
       "    }\n",
       "\n",
       "    .dataframe tbody tr th {\n",
       "        vertical-align: top;\n",
       "    }\n",
       "\n",
       "    .dataframe thead th {\n",
       "        text-align: right;\n",
       "    }\n",
       "</style>\n",
       "<table border=\"1\" class=\"dataframe\">\n",
       "  <thead>\n",
       "    <tr style=\"text-align: right;\">\n",
       "      <th></th>\n",
       "      <th>Question</th>\n",
       "      <th>Answer</th>\n",
       "      <th>Source</th>\n",
       "    </tr>\n",
       "  </thead>\n",
       "  <tbody>\n",
       "    <tr>\n",
       "      <th>0</th>\n",
       "      <td>What Is Autism Spectrum Disorder?</td>\n",
       "      <td>Autism spectrum disorder (ASD) is a neurodevel...</td>\n",
       "      <td>childmind</td>\n",
       "    </tr>\n",
       "    <tr>\n",
       "      <th>1</th>\n",
       "      <td>Terminology: “Autistic” “With Autism” and “Asp...</td>\n",
       "      <td>People use different language when talking abo...</td>\n",
       "      <td>childmind</td>\n",
       "    </tr>\n",
       "    <tr>\n",
       "      <th>2</th>\n",
       "      <td>How Is Autism Diagnosed?</td>\n",
       "      <td>The diversity of autism spectrum disorder can ...</td>\n",
       "      <td>childmind</td>\n",
       "    </tr>\n",
       "    <tr>\n",
       "      <th>3</th>\n",
       "      <td>Why Autism Diagnoses Are Often Delayed</td>\n",
       "      <td>For children on the autism spectrum the earlie...</td>\n",
       "      <td>childmind</td>\n",
       "    </tr>\n",
       "    <tr>\n",
       "      <th>4</th>\n",
       "      <td>How to Talk to Family and Friends About Your C...</td>\n",
       "      <td>If your child has been newly diagnosed with au...</td>\n",
       "      <td>childmind</td>\n",
       "    </tr>\n",
       "    <tr>\n",
       "      <th>5</th>\n",
       "      <td>Medical Causes for Autism-Related Behaviors</td>\n",
       "      <td>It’s not unusual for medical problems to be ov...</td>\n",
       "      <td>childmind</td>\n",
       "    </tr>\n",
       "    <tr>\n",
       "      <th>6</th>\n",
       "      <td>Sensory Issues</td>\n",
       "      <td>Sensory issues are often first recognized duri...</td>\n",
       "      <td>childmind</td>\n",
       "    </tr>\n",
       "    <tr>\n",
       "      <th>7</th>\n",
       "      <td>Rigid Eating Habits in Children on the Spectrum</td>\n",
       "      <td>Children on the autism spectrum are often very...</td>\n",
       "      <td>childmind</td>\n",
       "    </tr>\n",
       "    <tr>\n",
       "      <th>8</th>\n",
       "      <td>Wandering in Children on the Spectrum</td>\n",
       "      <td>The tendency of children on the spectrum to wa...</td>\n",
       "      <td>childmind</td>\n",
       "    </tr>\n",
       "    <tr>\n",
       "      <th>9</th>\n",
       "      <td>Repetitive Motions</td>\n",
       "      <td>Repetitive movements associated with autism ar...</td>\n",
       "      <td>childmind</td>\n",
       "    </tr>\n",
       "  </tbody>\n",
       "</table>\n",
       "</div>"
      ],
      "text/plain": [
       "                                            Question  \\\n",
       "0                  What Is Autism Spectrum Disorder?   \n",
       "1  Terminology: “Autistic” “With Autism” and “Asp...   \n",
       "2                           How Is Autism Diagnosed?   \n",
       "3             Why Autism Diagnoses Are Often Delayed   \n",
       "4  How to Talk to Family and Friends About Your C...   \n",
       "5        Medical Causes for Autism-Related Behaviors   \n",
       "6                                     Sensory Issues   \n",
       "7    Rigid Eating Habits in Children on the Spectrum   \n",
       "8              Wandering in Children on the Spectrum   \n",
       "9                                 Repetitive Motions   \n",
       "\n",
       "                                              Answer     Source  \n",
       "0  Autism spectrum disorder (ASD) is a neurodevel...  childmind  \n",
       "1  People use different language when talking abo...  childmind  \n",
       "2  The diversity of autism spectrum disorder can ...  childmind  \n",
       "3  For children on the autism spectrum the earlie...  childmind  \n",
       "4  If your child has been newly diagnosed with au...  childmind  \n",
       "5  It’s not unusual for medical problems to be ov...  childmind  \n",
       "6  Sensory issues are often first recognized duri...  childmind  \n",
       "7  Children on the autism spectrum are often very...  childmind  \n",
       "8  The tendency of children on the spectrum to wa...  childmind  \n",
       "9  Repetitive movements associated with autism ar...  childmind  "
      ]
     },
     "execution_count": 18,
     "metadata": {},
     "output_type": "execute_result"
    }
   ],
   "source": [
    "concatenated_df.head(10)"
   ]
  },
  {
   "cell_type": "code",
   "execution_count": 20,
   "metadata": {},
   "outputs": [],
   "source": [
    "concatenated_df.to_csv('data/all_extracted_data.csv')"
   ]
  }
 ],
 "metadata": {
  "kernelspec": {
   "display_name": "Python 3",
   "language": "python",
   "name": "python3"
  },
  "language_info": {
   "codemirror_mode": {
    "name": "ipython",
    "version": 3
   },
   "file_extension": ".py",
   "mimetype": "text/x-python",
   "name": "python",
   "nbconvert_exporter": "python",
   "pygments_lexer": "ipython3",
   "version": "3.10.12"
  },
  "orig_nbformat": 4
 },
 "nbformat": 4,
 "nbformat_minor": 2
}
