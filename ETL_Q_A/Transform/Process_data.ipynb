{
 "cells": [
  {
   "cell_type": "code",
   "execution_count": 1,
   "metadata": {},
   "outputs": [],
   "source": [
    "import re\n",
    "import pandas as pd"
   ]
  },
  {
   "cell_type": "code",
   "execution_count": 2,
   "metadata": {},
   "outputs": [],
   "source": [
    "# Load the three CSV files into dataframes\n",
    "df = pd.read_csv('data/all_extracted_data.csv')"
   ]
  },
  {
   "cell_type": "code",
   "execution_count": 3,
   "metadata": {},
   "outputs": [
    {
     "data": {
      "text/html": [
       "<div>\n",
       "<style scoped>\n",
       "    .dataframe tbody tr th:only-of-type {\n",
       "        vertical-align: middle;\n",
       "    }\n",
       "\n",
       "    .dataframe tbody tr th {\n",
       "        vertical-align: top;\n",
       "    }\n",
       "\n",
       "    .dataframe thead th {\n",
       "        text-align: right;\n",
       "    }\n",
       "</style>\n",
       "<table border=\"1\" class=\"dataframe\">\n",
       "  <thead>\n",
       "    <tr style=\"text-align: right;\">\n",
       "      <th></th>\n",
       "      <th>Unnamed: 0</th>\n",
       "      <th>Question</th>\n",
       "      <th>Answer</th>\n",
       "      <th>Source</th>\n",
       "    </tr>\n",
       "  </thead>\n",
       "  <tbody>\n",
       "    <tr>\n",
       "      <th>0</th>\n",
       "      <td>0</td>\n",
       "      <td>What Is Autism Spectrum Disorder?</td>\n",
       "      <td>Autism spectrum disorder (ASD) is a neurodevel...</td>\n",
       "      <td>childmind</td>\n",
       "    </tr>\n",
       "    <tr>\n",
       "      <th>1</th>\n",
       "      <td>1</td>\n",
       "      <td>Terminology: “Autistic” “With Autism” and “Asp...</td>\n",
       "      <td>People use different language when talking abo...</td>\n",
       "      <td>childmind</td>\n",
       "    </tr>\n",
       "    <tr>\n",
       "      <th>2</th>\n",
       "      <td>2</td>\n",
       "      <td>How Is Autism Diagnosed?</td>\n",
       "      <td>The diversity of autism spectrum disorder can ...</td>\n",
       "      <td>childmind</td>\n",
       "    </tr>\n",
       "    <tr>\n",
       "      <th>3</th>\n",
       "      <td>3</td>\n",
       "      <td>Why Autism Diagnoses Are Often Delayed</td>\n",
       "      <td>For children on the autism spectrum the earlie...</td>\n",
       "      <td>childmind</td>\n",
       "    </tr>\n",
       "    <tr>\n",
       "      <th>4</th>\n",
       "      <td>4</td>\n",
       "      <td>How to Talk to Family and Friends About Your C...</td>\n",
       "      <td>If your child has been newly diagnosed with au...</td>\n",
       "      <td>childmind</td>\n",
       "    </tr>\n",
       "    <tr>\n",
       "      <th>5</th>\n",
       "      <td>5</td>\n",
       "      <td>Medical Causes for Autism-Related Behaviors</td>\n",
       "      <td>It’s not unusual for medical problems to be ov...</td>\n",
       "      <td>childmind</td>\n",
       "    </tr>\n",
       "    <tr>\n",
       "      <th>6</th>\n",
       "      <td>6</td>\n",
       "      <td>Sensory Issues</td>\n",
       "      <td>Sensory issues are often first recognized duri...</td>\n",
       "      <td>childmind</td>\n",
       "    </tr>\n",
       "    <tr>\n",
       "      <th>7</th>\n",
       "      <td>7</td>\n",
       "      <td>Rigid Eating Habits in Children on the Spectrum</td>\n",
       "      <td>Children on the autism spectrum are often very...</td>\n",
       "      <td>childmind</td>\n",
       "    </tr>\n",
       "    <tr>\n",
       "      <th>8</th>\n",
       "      <td>8</td>\n",
       "      <td>Wandering in Children on the Spectrum</td>\n",
       "      <td>The tendency of children on the spectrum to wa...</td>\n",
       "      <td>childmind</td>\n",
       "    </tr>\n",
       "    <tr>\n",
       "      <th>9</th>\n",
       "      <td>9</td>\n",
       "      <td>Repetitive Motions</td>\n",
       "      <td>Repetitive movements associated with autism ar...</td>\n",
       "      <td>childmind</td>\n",
       "    </tr>\n",
       "  </tbody>\n",
       "</table>\n",
       "</div>"
      ],
      "text/plain": [
       "   Unnamed: 0                                           Question  \\\n",
       "0           0                  What Is Autism Spectrum Disorder?   \n",
       "1           1  Terminology: “Autistic” “With Autism” and “Asp...   \n",
       "2           2                           How Is Autism Diagnosed?   \n",
       "3           3             Why Autism Diagnoses Are Often Delayed   \n",
       "4           4  How to Talk to Family and Friends About Your C...   \n",
       "5           5        Medical Causes for Autism-Related Behaviors   \n",
       "6           6                                     Sensory Issues   \n",
       "7           7    Rigid Eating Habits in Children on the Spectrum   \n",
       "8           8              Wandering in Children on the Spectrum   \n",
       "9           9                                 Repetitive Motions   \n",
       "\n",
       "                                              Answer     Source  \n",
       "0  Autism spectrum disorder (ASD) is a neurodevel...  childmind  \n",
       "1  People use different language when talking abo...  childmind  \n",
       "2  The diversity of autism spectrum disorder can ...  childmind  \n",
       "3  For children on the autism spectrum the earlie...  childmind  \n",
       "4  If your child has been newly diagnosed with au...  childmind  \n",
       "5  It’s not unusual for medical problems to be ov...  childmind  \n",
       "6  Sensory issues are often first recognized duri...  childmind  \n",
       "7  Children on the autism spectrum are often very...  childmind  \n",
       "8  The tendency of children on the spectrum to wa...  childmind  \n",
       "9  Repetitive movements associated with autism ar...  childmind  "
      ]
     },
     "execution_count": 3,
     "metadata": {},
     "output_type": "execute_result"
    }
   ],
   "source": [
    "df.head(10)"
   ]
  },
  {
   "cell_type": "code",
   "execution_count": 4,
   "metadata": {},
   "outputs": [],
   "source": [
    "# Remove the 'Unnamed: 0' column\n",
    "df.drop(columns=['Unnamed: 0'], inplace=True)"
   ]
  },
  {
   "cell_type": "code",
   "execution_count": 5,
   "metadata": {},
   "outputs": [],
   "source": [
    "# Define a function to replace the patterns in the 'Answer' column\n",
    "def replace_patterns(answer):\n",
    "    # Remove patterns like [1], [4,3], [2, 4,3]\n",
    "    pattern = r'\\[\\d+(?:,\\s*\\d+)*\\]'\n",
    "    answer = re.sub(pattern, '', answer)\n",
    "    \n",
    "    # Remove \"See the image \" \n",
    "    answer = re.sub(r'See the image .*?\\.', '.', answer)\n",
    "\n",
    "    answer = re.sub(r'read more .*?\\.', '.', answer)\n",
    "    \n",
    "    return answer"
   ]
  },
  {
   "cell_type": "code",
   "execution_count": 6,
   "metadata": {},
   "outputs": [],
   "source": [
    "# Apply the function to the 'Answer' column\n",
    "df['Answer'] = df['Answer'].apply(replace_patterns)"
   ]
  },
  {
   "cell_type": "code",
   "execution_count": 7,
   "metadata": {},
   "outputs": [],
   "source": [
    "df.to_csv('Clean_data.csv')"
   ]
  },
  {
   "cell_type": "code",
   "execution_count": 8,
   "metadata": {},
   "outputs": [],
   "source": [
    "# Convert DataFrame to JSON\n",
    "import json\n",
    "\n",
    "json_data = df.to_json(orient='records')\n",
    "\n",
    "json_data = json.loads(json_data)"
   ]
  },
  {
   "cell_type": "code",
   "execution_count": 9,
   "metadata": {},
   "outputs": [],
   "source": [
    "from json_exemples import *\n",
    "\n",
    "json_data[104] = Alpha_2_adrenergic_agonists\n",
    "json_data[105] = Stimulants\n",
    "json_data[106] = SSRI_Antidepressants\n",
    "json_data[107] = second_Generation_Antipsychotics\n",
    "\n",
    "json_data[0] = ASD\n",
    "json_data[2] = Autism_Diagnosed\n",
    "json_data[3] = Autism_Diagnoses_Delayed"
   ]
  },
  {
   "cell_type": "code",
   "execution_count": 10,
   "metadata": {},
   "outputs": [
    {
     "name": "stdout",
     "output_type": "stream",
     "text": [
      "JSON data has been saved to Clean_data.json\n"
     ]
    }
   ],
   "source": [
    "# Specify the file path where you want to save the JSON data\n",
    "json_file_path = 'Clean_data.json'\n",
    "\n",
    "# Write JSON data to the file\n",
    "with open(json_file_path, 'w') as json_file:\n",
    "    json.dump(json_data, json_file, indent=4)\n",
    "\n",
    "print(f\"JSON data has been saved to {json_file_path}\")"
   ]
  }
 ],
 "metadata": {
  "kernelspec": {
   "display_name": "Python 3",
   "language": "python",
   "name": "python3"
  },
  "language_info": {
   "codemirror_mode": {
    "name": "ipython",
    "version": 3
   },
   "file_extension": ".py",
   "mimetype": "text/x-python",
   "name": "python",
   "nbconvert_exporter": "python",
   "pygments_lexer": "ipython3",
   "version": "3.10.12"
  },
  "orig_nbformat": 4
 },
 "nbformat": 4,
 "nbformat_minor": 2
}
